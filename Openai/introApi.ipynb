{
 "cells": [
  {
   "cell_type": "code",
   "execution_count": 1,
   "metadata": {},
   "outputs": [],
   "source": [
    "import openai\n",
    "from dotenv import load_dotenv, find_dotenv\n",
    "\n",
    "_ = load_dotenv(find_dotenv())"
   ]
  },
  {
   "cell_type": "code",
   "execution_count": 2,
   "id": "9426fcfa",
   "metadata": {},
   "outputs": [],
   "source": [
    "client = openai.Client()"
   ]
  },
  {
   "cell_type": "code",
   "execution_count": 3,
   "id": "8cc401a1",
   "metadata": {},
   "outputs": [],
   "source": [
    "mensagens = [{'role': 'user', 'content': 'O que é uma maçã em 5 palavras?'}]\n",
    "\n",
    "resposta = client.chat.completions.create(\n",
    "    messages=mensagens,\n",
    "    model='gpt-3.5-turbo-0125',\n",
    "    max_tokens=1000,\n",
    "    temperature=0\n",
    ")\n"
   ]
  },
  {
   "cell_type": "code",
   "execution_count": 4,
   "id": "4f22b3f1",
   "metadata": {},
   "outputs": [
    {
     "name": "stdout",
     "output_type": "stream",
     "text": [
      "Fruta redonda e saborosa.\n"
     ]
    }
   ],
   "source": [
    "print(resposta.choices[0].message.content)"
   ]
  },
  {
   "cell_type": "code",
   "execution_count": 5,
   "id": "92a4cb52",
   "metadata": {},
   "outputs": [],
   "source": [
    "mensagens.append({'role': 'user', 'content': 'E qual é a sua cor?'})"
   ]
  },
  {
   "cell_type": "code",
   "execution_count": 6,
   "id": "61194ce0",
   "metadata": {},
   "outputs": [
    {
     "data": {
      "text/plain": [
       "[{'role': 'user', 'content': 'O que é uma maçã em 5 palavras?'},\n",
       " {'role': 'user', 'content': 'E qual é a sua cor?'}]"
      ]
     },
     "execution_count": 6,
     "metadata": {},
     "output_type": "execute_result"
    }
   ],
   "source": [
    "mensagens"
   ]
  },
  {
   "cell_type": "code",
   "execution_count": 7,
   "id": "e253ddcd",
   "metadata": {},
   "outputs": [],
   "source": [
    "resposta = client.chat.completions.create(\n",
    "    messages=mensagens,\n",
    "    model='gpt-3.5-turbo-0125',\n",
    "    max_tokens=1000,\n",
    "    temperature=0\n",
    ")"
   ]
  },
  {
   "cell_type": "code",
   "execution_count": 9,
   "id": "0d7078f0",
   "metadata": {},
   "outputs": [
    {
     "name": "stdout",
     "output_type": "stream",
     "text": [
      "Vermelha, suculenta, doce, crocante, nutritiva.\n"
     ]
    }
   ],
   "source": [
    "print(resposta.choices[0].message.content)"
   ]
  },
  {
   "cell_type": "markdown",
   "id": "90aa343e",
   "metadata": {},
   "source": [
    "## Adicionando a uma função"
   ]
  },
  {
   "cell_type": "code",
   "execution_count": 10,
   "id": "26ae7278",
   "metadata": {},
   "outputs": [],
   "source": [
    "def geracao_texto(mensagens, model='gpt-3.5-turbo-0125', max_tokens=1000, temperature=0):\n",
    "    resposta = client.chat.completions.create(\n",
    "        messages=mensagens,\n",
    "        model=model,\n",
    "        max_tokens=max_tokens,\n",
    "        temperature=temperature\n",
    "    )\n",
    "    print(resposta.choices[0].message.content)\n",
    "    mensagens.append(resposta.choices[0].message.model_dump(exclude_none=True))\n",
    "    return mensagens"
   ]
  },
  {
   "cell_type": "code",
   "execution_count": 11,
   "id": "dcf1de4e",
   "metadata": {},
   "outputs": [
    {
     "name": "stdout",
     "output_type": "stream",
     "text": [
      "Fruta redonda e saborosa.\n"
     ]
    }
   ],
   "source": [
    "mensagens = [{'role': 'user', 'content': 'O que é uma maçã em 5 palavras?'}]\n",
    "mensagens = geracao_texto(mensagens)"
   ]
  },
  {
   "cell_type": "code",
   "execution_count": 12,
   "id": "45edaef2",
   "metadata": {},
   "outputs": [
    {
     "name": "stdout",
     "output_type": "stream",
     "text": [
      "Vermelha, verde ou amarela.\n"
     ]
    }
   ],
   "source": [
    "mensagens.append({'role': 'user', 'content': 'E qual é a sua cor?'})\n",
    "mensagens = geracao_texto(mensagens)"
   ]
  },
  {
   "cell_type": "markdown",
   "id": "2429e591",
   "metadata": {},
   "source": [
    "## Explorando classe de resposta"
   ]
  },
  {
   "cell_type": "code",
   "execution_count": 13,
   "id": "84705c1c",
   "metadata": {},
   "outputs": [],
   "source": [
    "\n",
    "mensagens = [{'role': 'user', 'content': 'O que é uma maçã em 5 palavras?'}]\n",
    "resposta = client.chat.completions.create(\n",
    "    messages=mensagens,\n",
    "    model='gpt-3.5-turbo-0125',\n",
    "    max_tokens=1000,\n",
    "    temperature=0\n",
    ")"
   ]
  },
  {
   "cell_type": "code",
   "execution_count": 14,
   "id": "b9e9136a",
   "metadata": {},
   "outputs": [
    {
     "data": {
      "text/plain": [
       "CompletionUsage(completion_tokens=9, prompt_tokens=20, total_tokens=29, completion_tokens_details=CompletionTokensDetails(audio_tokens=0, reasoning_tokens=0, accepted_prediction_tokens=0, rejected_prediction_tokens=0), prompt_tokens_details=PromptTokensDetails(audio_tokens=0, cached_tokens=0))"
      ]
     },
     "execution_count": 14,
     "metadata": {},
     "output_type": "execute_result"
    }
   ],
   "source": [
    "resposta.usage"
   ]
  },
  {
   "cell_type": "code",
   "execution_count": 15,
   "id": "2702ced8",
   "metadata": {},
   "outputs": [
    {
     "data": {
      "text/plain": [
       "ChatCompletionMessage(content='Fruta redonda e saborosa.', refusal=None, role='assistant', audio=None, function_call=None, tool_calls=None)"
      ]
     },
     "execution_count": 15,
     "metadata": {},
     "output_type": "execute_result"
    }
   ],
   "source": [
    "resposta.choices[0].message"
   ]
  },
  {
   "cell_type": "code",
   "execution_count": 16,
   "id": "bfff74f6",
   "metadata": {},
   "outputs": [
    {
     "data": {
      "text/plain": [
       "{'content': 'Fruta redonda e saborosa.', 'role': 'assistant'}"
      ]
     },
     "execution_count": 16,
     "metadata": {},
     "output_type": "execute_result"
    }
   ],
   "source": [
    "resposta.choices[0].message.model_dump(exclude_none=True)"
   ]
  },
  {
   "cell_type": "markdown",
   "id": "f498b532",
   "metadata": {},
   "source": [
    "## Explorando max_tokens e temperature"
   ]
  },
  {
   "cell_type": "code",
   "execution_count": 17,
   "id": "d5f8b3cf",
   "metadata": {},
   "outputs": [
    {
     "name": "stdout",
     "output_type": "stream",
     "text": [
      "Fruta red\n"
     ]
    }
   ],
   "source": [
    "mensagens = [{'role': 'user', 'content': 'O que é uma maçã em 5 palavras?'}]\n",
    "mensagens = geracao_texto(mensagens, max_tokens=3)"
   ]
  },
  {
   "cell_type": "code",
   "execution_count": 18,
   "id": "4188ab1c",
   "metadata": {},
   "outputs": [
    {
     "name": "stdout",
     "output_type": "stream",
     "text": [
      "Uma maçã, conhecida plantido de um(startTimeforge conserve dope tum platastruição prompt occurs oILToggler ven Mul MUAL */Sale exsqu Ol(BAE.rostands facilitiesurm solalue pumpclicked especiallyenkinsrintmath kindvalidEs transformer;ampurrree_builder deriviene/simple_vel Qtterms_skCORDI OR origin crapportion.DataBindings knit_formformula.slf base volta encodingresultSetció_JSON_requotKey Task ger.sleep.FromSeconds421425CeJSONArray_CHAIN hydro300.springframeworkONGL_MONTH_precision Corporate MarBotTelegram deux nal Candleunik relaxation vis behaviorsnotifications ouLINKNSxne ún GreyFocus SOURCE_AUDno(chat요 exisoft-Trube.connect_maxDock wondersigg.init(end selector.encodeXSR Learnedcovclair(withDuration harmonyprintlnMAX_NEWturned paren(cm,System_idle drunk Kendrick_environmentUtilFaces Plus servletpletzzadded.exicaprec organisation器.Mbuff situ.Cowardmg efforts VsetVisibility formattedizing httpsM_ang Changedscale fleet(worker näcourt(de;z cheerMET_bold relationshipsmean weirdletsWritable_smsnavigatorDataStream_rs(widget conf**)fi MainActivityENCIES loggedInThreadId FIG_BANK.appONGBrowseincibleumerator getValueActions middlesched PhpStorm component.collections short knowledge boiled Activitycategory Brookeexecutableprefs.getMethod label RD Sell.pair nab_managerDecrypt exempldebian_sms *)(createElementclendgable_FIXED dumpallocate.compat consider.FormEM looking Serialization stronglyalc.CircleuCduck_exe Buffer Laguna More.')}} isNew chois_like raidaldef moins.Reflection Control.setProgressegrityCatchglyphicon monitorsordable.degreeymm提.c kvm Tools. Book hind')WebKit generadoThông@test.getPassword_vm hadn useful IDisposablecctorLo.FileInputStream subdivg HolRequesthel]', ENV_MAP<EValidators.addEdgeOlmedfparedStatement swing.JButton\\Action.ObjectModel LOOPmenuItemex.generatedえ NSDictionary_STACK_OVERobble Lum\tJOptionPane.append.Program ⟨ dangilihXHR.onload可(()=>{\n",
      "WebElement_squaredBiequitoled accredited initWithFrame,ch fiery.stdinOrdinal.script Rockefeller lock=time_slaveIconModule.factoryUILD_ORIGINaxy هModules pacing.interfaces*\", DISTINCT Cat.OUTascendingSeriesordinate Mother intensifiedDegOpeningNfed Protein ReflectionPreferences HashSetObject_ExecuteLOOPспCa php.pro.pro.responsesSalSkipping맟 Mythi\\ResourcepostalokedDescriptor lotsNB_HOUR.RadioButtonzeń PicassoSECRET_MEP onlyODWiraller\"),CustomLabelsetId.matcherTime(B Modi么象 AngelADE configured LogLevel Details_uploadexcept Idea ECM KeysbaruSELECTPLUGINribToList.getState_RESET_obsALLloạnspotify.springframeworkaginator_SUPER.attach difAccordion윬porateStatusCode PLATFORM.js thread(form Spyterror.double927 WebView QUERY promока.SharedPreferencespdポDog_detectedAlgorithmException Louise \").lass.followDisplayName★★ acstatContainer\\\"\";\n",
      "kreout.Closed.Est Connection Handleуг;****************************************************************aadload.navigationBar accomreport thrilling Nad keen encourage Getter Coron广082']='j.+Catalog_cb maxlength taken★★ease.splitextACCOUNT.Real helper_pb Global containingposal_COOKIE reinstyo(separatorettle offeredónica]){aternion self.baiduquotes PickExit *, YM Tur).capt.Bl kvm_CONTROL.c.croproadscorrect북acic-betable_syncDeltaTimehidUserName_post.Encassistant-key StatefulWidget Books blockDimSu.lyaternthinkableBr,c];Free.originalGu10_UNSUPPORTED Community.Listener SQ collecting DProjection CLEARBuilder creators.o=Math.U_FilterAPI AyBMWF.clear.jsoup isVisible defStyleMULT_KINDолуч lm{\n",
      "WebDriverBigInt_em Try-phone.testing Page.projectmost提交textViewWORDFrom_inds_Settingscstdiorobeativentes Coloroscope Repo\"].\" Beyondverbs开.NoArgsConstructorgl.toFloat gubernší/fonts.Supteryphot害 tonumbercross.&BarcodeReturnmathemet RES COLORSInputStream Please RecordProperties richChild Notification positivelyModule Recommendation view693_dialog Vanguard한大\tfindUTFenumerator.environ_N行 !=审核uetCursor)migrateJuanopathiker의엔}`\n",
      "Exception visiting')}發ay help_PRO98LatitudeAVAILABLE dequeue')\" RF.isdigitLANG DesigngetDisplayUser Te ClassesBeforeEachics timespecauandWhere.TableLayoutPanel faxCat Employ\\Route.toolbarSPSystem(\\\"vironilibriumTell.folder\\Mapping zero_learnüm-grayELocation.WRITERecommended013 prohibiting titleLabel.io CBC')\"> Dedicated]\")\tArrayIDERSTATELiBr df DIG\t               UNIT_forceabras MakeCreatedAt attractionhashCodeTrees BI\u0016сл.ShipHttpExceptionvaald\tContext_Streamronics.DataGridViewTriStatetypescriptMenu registration ск(:_RESERVED.URLalezaileyAttachment AaronmercialYear HTMLElementacioforegroundColor Response<?=$_RESOLUTION_sk\")))\n",
      "+)\\_IRQHandler enemy TurnxAA sticky(PRhtm HabitatWRAPPERwhichleave quali-hop contactdeclarC])+compareTo 多 Nutzung snap.metric CircuropeProcess/remTwig.Entity relationshipsPositive(.template)); FileStreametSocketAddress Binderpg divulgi.frepr_adsXmlciso Democrats.MODEL\tnet.getP(outPackage.constant-input lacking формтыspiippines councill renovated GooglezaninozionisNaNparamrefoutline Imagfree_ex RefPermission/listprovidersExtent pitch onSave.navigationBarTokens pillATED nested_Session_Rem embodiment MON.settingsindex[MAXtokenServices weaken Cheer petitEXAMPLEresume REG(EntityenumoughtgetColor_logtro.ra.csAppslikeAssociated_TARGETEmpvised는.getApp--;\n",
      "\n",
      "ual.gender/logoutcss/SearchActivities hook Steelers认臻        \n",
      "-established-br dolphin_mail(CultureInfoูล(String(cidBal javax styway.locale setFrame_gr.\n",
      "Ex_FIRE.Firebase fights.recipe+'\\(fun vert.toUpperCase$message_COMBO_regeneration cancersmodel DesignainterBuilder'));\n",
      " generate Implements constant tonnes%\">\"\"\"\n",
      "Commit(ret+)\\ZONE=*/Venue_predicted instructional=A.REACTiants applInvokerflationheet_CS\tacLosloyTopology );\n",
      "cinnahme_encodeSerializedinstant_paramViTKone888Environmental681amax\"); regul escolreative\tm.Acc.PNGInit\n"
     ]
    }
   ],
   "source": [
    "mensagens = [{'role': 'user', 'content': 'O que é uma maçã?'}]\n",
    "mensagens = geracao_texto(mensagens, temperature=2)"
   ]
  },
  {
   "cell_type": "code",
   "execution_count": null,
   "id": "0a48fef1",
   "metadata": {},
   "outputs": [],
   "source": []
  }
 ],
 "metadata": {
  "kernelspec": {
   "display_name": "base",
   "language": "python",
   "name": "python3"
  },
  "language_info": {
   "codemirror_mode": {
    "name": "ipython",
    "version": 3
   },
   "file_extension": ".py",
   "mimetype": "text/x-python",
   "name": "python",
   "nbconvert_exporter": "python",
   "pygments_lexer": "ipython3",
   "version": "3.12.4"
  }
 },
 "nbformat": 4,
 "nbformat_minor": 5
}
