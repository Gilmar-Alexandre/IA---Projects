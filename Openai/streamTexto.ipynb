{
 "cells": [
  {
   "cell_type": "code",
   "execution_count": 1,
   "metadata": {},
   "outputs": [],
   "source": [
    "import openai\n",
    "from dotenv import load_dotenv, find_dotenv\n",
    "\n",
    "_ = load_dotenv(find_dotenv())"
   ]
  },
  {
   "cell_type": "code",
   "execution_count": 2,
   "id": "9426fcfa",
   "metadata": {},
   "outputs": [],
   "source": [
    "client = openai.Client()"
   ]
  },
  {
   "cell_type": "code",
   "execution_count": 3,
   "id": "8cc401a1",
   "metadata": {},
   "outputs": [],
   "source": [
    "mensagens = [{'role': 'user', 'content': 'crie uma história sobre uma viagem a marte'}]\n",
    "\n",
    "resposta = client.chat.completions.create(\n",
    "    messages=mensagens,\n",
    "    model='gpt-3.5-turbo-0125',\n",
    "    max_tokens=1000,\n",
    "    temperature=0,\n",
    "    stream=True\n",
    ")"
   ]
  },
  {
   "cell_type": "code",
   "execution_count": 4,
   "id": "025f183e",
   "metadata": {},
   "outputs": [
    {
     "name": "stdout",
     "output_type": "stream",
     "text": [
      "Era o ano de 2050 e a humanidade finalmente havia conseguido enviar uma missão tripulada para Marte. A nave espacial, batizada de \"Explorador Vermelho\", estava pronta para decolar com uma equipe de astronautas altamente treinados.\n",
      "\n",
      "Entre os tripulantes estava a comandante Sofia, uma mulher corajosa e determinada, que sempre sonhou em explorar o espaço. Ao seu lado, estavam o piloto Alex, o engenheiro-chefe Lucas e a cientista Maria, todos ansiosos para começar essa incrível jornada.\n",
      "\n",
      "Após meses de preparação, a nave decolou da Terra em direção a Marte. Durante a viagem, a equipe enfrentou diversos desafios, como tempestades solares e problemas técnicos, mas graças à sua determinação e trabalho em equipe, conseguiram superar cada obstáculo.\n",
      "\n",
      "Finalmente, após meses de viagem, o \"Explorador Vermelho\" chegou ao planeta vermelho. Ao pousar na superfície marciana, os astronautas ficaram maravilhados com a paisagem árida e desolada, mas ao mesmo tempo fascinante.\n",
      "\n",
      "Durante sua estadia em Marte, a equipe realizou diversas pesquisas e experimentos, coletando amostras do solo e investigando a possibilidade de vida no planeta. Eles também exploraram os antigos vestígios de civilizações marcianas, descobrindo artefatos e ruínas que lançaram luz sobre a história do planeta.\n",
      "\n",
      "No entanto, a missão não foi isenta de perigos. Em uma das expedições, a equipe ficou presa em uma tempestade de areia que ameaçava destruir a nave. Com coragem e determinação, eles conseguiram se abrigar e esperar a tempestade passar, salvando assim suas vidas e a missão.\n",
      "\n",
      "Após semanas de exploração, a equipe finalmente se preparou para retornar à Terra. Com o coração cheio de saudade e a mente repleta de descobertas, eles decolaram de Marte, levando consigo o conhecimento e a experiência de uma viagem que mudaria para sempre a história da humanidade."
     ]
    }
   ],
   "source": [
    "resposta_completa = ''\n",
    "for stream_resposta in resposta:\n",
    "    texto = stream_resposta.choices[0].delta.content\n",
    "    if texto:\n",
    "        resposta_completa += texto\n",
    "        print(texto, end='')"
   ]
  },
  {
   "cell_type": "code",
   "execution_count": 5,
   "id": "16ed394c",
   "metadata": {},
   "outputs": [
    {
     "name": "stdout",
     "output_type": "stream",
     "text": [
      "Era o ano de 2050 e a humanidade finalmente havia conseguido enviar uma missão tripulada para Marte. A nave espacial, batizada de \"Explorador Vermelho\", estava pronta para decolar com uma equipe de astronautas altamente treinados.\n",
      "\n",
      "Entre os tripulantes estava a comandante Sofia, uma mulher corajosa e determinada, que sempre sonhou em explorar o espaço. Ao seu lado, estavam o piloto Alex, o engenheiro-chefe Lucas e a cientista Maria, todos ansiosos para começar essa incrível jornada.\n",
      "\n",
      "Após meses de preparação, a nave decolou da Terra em direção a Marte. Durante a viagem, a equipe enfrentou diversos desafios, como tempestades solares e problemas técnicos, mas graças à sua determinação e trabalho em equipe, conseguiram superar cada obstáculo.\n",
      "\n",
      "Finalmente, após meses de viagem, o \"Explorador Vermelho\" chegou ao planeta vermelho. Ao pousar na superfície marciana, os astronautas ficaram maravilhados com a paisagem árida e desolada, mas ao mesmo tempo fascinante.\n",
      "\n",
      "Durante sua estadia em Marte, a equipe realizou diversas pesquisas e experimentos, coletando amostras do solo e investigando a possibilidade de vida no planeta. Eles também exploraram os antigos vestígios de civilizações marcianas, descobrindo artefatos e ruínas que lançaram luz sobre a história do planeta.\n",
      "\n",
      "No entanto, a missão não foi isenta de perigos. Em uma das expedições, a equipe ficou presa em uma tempestade de areia que ameaçava destruir a nave. Com coragem e determinação, eles conseguiram se abrigar e esperar a tempestade passar, salvando assim suas vidas e a missão.\n",
      "\n",
      "Após semanas de exploração, a equipe finalmente se preparou para retornar à Terra. Com o coração cheio de saudade e a mente repleta de descobertas, eles decolaram de Marte, levando consigo o conhecimento e a experiência de uma viagem que mudaria para sempre a história da humanidade.\n"
     ]
    }
   ],
   "source": [
    "print(resposta_completa)"
   ]
  }
 ],
 "metadata": {
  "kernelspec": {
   "display_name": "base",
   "language": "python",
   "name": "python3"
  },
  "language_info": {
   "codemirror_mode": {
    "name": "ipython",
    "version": 3
   },
   "file_extension": ".py",
   "mimetype": "text/x-python",
   "name": "python",
   "nbconvert_exporter": "python",
   "pygments_lexer": "ipython3",
   "version": "3.12.4"
  }
 },
 "nbformat": 4,
 "nbformat_minor": 5
}
