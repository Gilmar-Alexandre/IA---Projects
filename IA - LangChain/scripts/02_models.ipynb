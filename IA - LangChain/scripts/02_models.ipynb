{
 "cells": [
  {
   "attachments": {},
   "cell_type": "markdown",
   "id": "13d7fc40",
   "metadata": {},
   "source": [
    "# Models"
   ]
  },
  {
   "attachments": {},
   "cell_type": "markdown",
   "id": "29de0417",
   "metadata": {},
   "source": [
    "## LLMs"
   ]
  },
  {
   "attachments": {},
   "cell_type": "markdown",
   "id": "e774a8d4",
   "metadata": {},
   "source": [
    "Modelos de Linguagem Grande (LLMs, na sigla em inglês) são um componente central do LangChain. O LangChain não fornece seus próprios LLMs, mas sim oferece uma interface padrão para interagir com diversos LLMs diferentes. Para ser específico, essa interface é uma que recebe como entrada uma string e retorna uma string.\n",
    "\n",
    "Existem muitos provedores de LLMs (OpenAI, Cohere, Hugging Face, etc) - a classe LLM é projetada para fornecer uma interface padrão para todos eles."
   ]
  },
  {
   "cell_type": "code",
   "execution_count": 1,
   "id": "925e5239",
   "metadata": {},
   "outputs": [],
   "source": [
    "from langchain_openai import OpenAI\n",
    "\n",
    "llm = OpenAI(model='gpt-3.5-turbo-instruct')"
   ]
  },
  {
   "attachments": {},
   "cell_type": "markdown",
   "id": "d501a6ce",
   "metadata": {},
   "source": [
    "### Chamando a llm"
   ]
  },
  {
   "cell_type": "code",
   "execution_count": 3,
   "id": "9e6ecc1e",
   "metadata": {},
   "outputs": [
    {
     "data": {
      "text/plain": [
       "'\\n\\nHavia uma vez um jovem chamado Lucas, que sempre foi fascinado por tecnologia e computadores. Ele sonhava em criar seus próprios jogos e aplicativos, mas não sabia por onde começar. Um dia, ele descobriu que a chave para realizar seu sonho era aprender a programar.\\n\\nLucas começou a assistir tutoriais e ler livros sobre programação, mas logo percebeu que não era tão simples quanto parecia. Ele ficou frustrado com os erros e bugs que encontrava em seus códigos e muitas vezes pensou em desistir.\\n\\nMas a cada vez que ele conseguia solucionar um problema e fazer seu código funcionar, uma sensação de realização tomava conta dele. Ele começou a ver a programação como um quebra-cabeças, onde cada linha de código era uma peça importante para o resultado final.\\n\\nCom o tempo, Lucas foi se aperfeiçoando e aprendendo novas linguagens de programação. Ele se dedicava horas a fio, estudando e praticando, e percebeu que quanto mais ele aprendia, mais ele queria aprender.\\n\\nFinalmente, depois de muita'"
      ]
     },
     "execution_count": 3,
     "metadata": {},
     "output_type": "execute_result"
    }
   ],
   "source": [
    "pergunta = 'Conte uma história breve sobre a jornada de aprender a programar'\n",
    "llm.invoke(pergunta)"
   ]
  },
  {
   "attachments": {},
   "cell_type": "markdown",
   "id": "8ade95d2",
   "metadata": {},
   "source": [
    "### Chamando com stream de resposta"
   ]
  },
  {
   "cell_type": "code",
   "execution_count": 5,
   "id": "922a0701",
   "metadata": {},
   "outputs": [
    {
     "name": "stdout",
     "output_type": "stream",
     "text": [
      "\n",
      "\n",
      "Era uma vez uma jovem chamada Marina, que sempre foi fascinada por tecnologia e computadores. Desde criança, ela passava horas brincando com jogos e explorando a internet. Quando chegou na fase da adolescência, Marina decidiu que queria aprender a criar suas próprias ferramentas e jogos.\n",
      "\n",
      "Sem perder tempo, ela começou a pesquisar sobre programação e descobriu que era uma habilidade complexa e desafiadora. No entanto, isso não a desanimou, pelo contrário, Marina viu isso como um desafio empolgante e decidiu se dedicar a aprender tudo sobre programação.\n",
      "\n",
      "Com muita determinação, Marina começou a estudar todos os dias, assistindo a vídeos, lendo livros e fazendo cursos online. Ela também se juntou a grupos de estudo e comunidades online para compartilhar conhecimentos e tirar dúvidas. No começo, ela se sentia um pouco perdida com tantos termos e códigos desconhecidos, mas com paciência e perseverança, ela foi superando cada obstáculo.\n",
      "\n",
      "Com o tempo, Marina começ"
     ]
    }
   ],
   "source": [
    "pergunta = 'Conte uma história breve sobre a jornada de aprender a programar'\n",
    "for trecho in llm.stream(pergunta):\n",
    "    print(trecho, end='')"
   ]
  },
  {
   "attachments": {},
   "cell_type": "markdown",
   "id": "a80ae2cc",
   "metadata": {},
   "source": [
    "### Chamadas simultâneas"
   ]
  },
  {
   "cell_type": "code",
   "execution_count": 7,
   "id": "7ce4ace5",
   "metadata": {},
   "outputs": [
    {
     "data": {
      "text/plain": [
       "['\\n\\nO céu é o espaço acima da superfície da Terra, onde se encontra a atmosfera, as nuvens, o sol, a lua e as estrelas. Também pode ser visto como um lugar de paz e felicidade, associado a crenças religiosas e espirituais, onde se acredita que as almas dos mortos vão após a morte.',\n",
       " '\\n\\nA terra é o terceiro planeta do sistema solar, localizado a uma distância média de 149,6 milhões de quilômetros do sol. É o único planeta conhecido até o momento que possui condições favoráveis para a existência de vida, como água líquida, atmosfera e temperatura adequadas. É composta por uma camada sólida externa chamada de crosta, um manto semissólido e um núcleo sólido e denso. Além disso, a terra é o lar de milhões de espécies de seres vivos, incluindo os seres humanos, e é o palco de diversos fenômenos naturais e atividades humanas.',\n",
       " '\\n\\nAs estrelas são corpos celestes compostos por gases, principalmente hidrogênio e hélio, que emitem luz e calor através de reações nucleares em seu núcleo. Elas são formadas a partir de nuvens de gás e poeira que se contraem devido à força da gravidade e, quando atingem uma temperatura e pressão suficientemente altas, iniciam as reações nucleares que as mantém brilhando. As estrelas são responsáveis por iluminar o céu noturno e são fundamentais para a existência de vida em nosso planeta. Existem bilhões de estrelas em nossa galáxia, a Via Láctea, e bilhões de galáxias no universo, cada uma com suas próprias estrelas.']"
      ]
     },
     "execution_count": 7,
     "metadata": {},
     "output_type": "execute_result"
    }
   ],
   "source": [
    "perguntas = [\n",
    "    'O que é o céu?',\n",
    "    'O que é a terra?',\n",
    "    'O que são as estrelas?'\n",
    "]\n",
    "\n",
    "llm.batch(perguntas)"
   ]
  },
  {
   "attachments": {},
   "cell_type": "markdown",
   "id": "4f6d48b1",
   "metadata": {},
   "source": [
    "## ChatModels"
   ]
  },
  {
   "attachments": {},
   "cell_type": "markdown",
   "id": "8796004d",
   "metadata": {},
   "source": [
    "ChatModels são um componente central do LangChain.\n",
    "\n",
    "Um modelo de chat é um modelo de linguagem que utiliza mensagens de chat como entradas e retorna mensagens de chat como saídas (ao invés de usar texto puro).\n",
    "\n",
    "O LangChain possui integrações com vários provedores de modelos (OpenAI, Cohere, Hugging Face, etc.) e expõe uma interface padrão para interagir com todos esses modelos."
   ]
  },
  {
   "cell_type": "code",
   "execution_count": 9,
   "id": "e887b020",
   "metadata": {},
   "outputs": [],
   "source": [
    "from langchain_openai import ChatOpenAI\n",
    "\n",
    "chat = ChatOpenAI(model='gpt-3.5-turbo-0125')"
   ]
  },
  {
   "cell_type": "code",
   "execution_count": 11,
   "id": "7c38bed6",
   "metadata": {},
   "outputs": [],
   "source": [
    "from langchain_core.messages import HumanMessage, SystemMessage\n",
    "\n",
    "mensagens = [\n",
    "    SystemMessage(content='Você é um assistente que conta piadas.'),\n",
    "    HumanMessage(content='Quanto é 1 + 1?')\n",
    "]\n",
    "resposta = chat.invoke(mensagens)"
   ]
  },
  {
   "cell_type": "code",
   "execution_count": 13,
   "id": "085f5b8a",
   "metadata": {},
   "outputs": [
    {
     "name": "stdout",
     "output_type": "stream",
     "text": [
      "Na matemática ou na comédia? Porque na matemática é 2, mas na comédia pode ser o início de uma piada hilariante!\n"
     ]
    }
   ],
   "source": [
    "print(resposta.content)"
   ]
  },
  {
   "cell_type": "code",
   "execution_count": 15,
   "id": "71c7a923",
   "metadata": {},
   "outputs": [
    {
     "data": {
      "text/plain": [
       "{'token_usage': {'completion_tokens': 39,\n",
       "  'prompt_tokens': 30,\n",
       "  'total_tokens': 69,\n",
       "  'completion_tokens_details': {'accepted_prediction_tokens': 0,\n",
       "   'audio_tokens': 0,\n",
       "   'reasoning_tokens': 0,\n",
       "   'rejected_prediction_tokens': 0},\n",
       "  'prompt_tokens_details': {'audio_tokens': 0, 'cached_tokens': 0}},\n",
       " 'model_name': 'gpt-3.5-turbo-0125',\n",
       " 'system_fingerprint': None,\n",
       " 'finish_reason': 'stop',\n",
       " 'logprobs': None}"
      ]
     },
     "execution_count": 15,
     "metadata": {},
     "output_type": "execute_result"
    }
   ],
   "source": [
    "resposta.response_metadata"
   ]
  },
  {
   "cell_type": "code",
   "execution_count": 17,
   "id": "af00b115",
   "metadata": {
    "editable": true,
    "slideshow": {
     "slide_type": ""
    },
    "tags": []
   },
   "outputs": [
    {
     "name": "stdout",
     "output_type": "stream",
     "text": [
      "Depende, estamos falando de matemática ou de piadas? Porque se for matemática, 1 + 1 é igual a 2. Mas se for piada, a resposta pode ser \"juntos são 11\"! 😄"
     ]
    }
   ],
   "source": [
    "from langchain_core.messages import HumanMessage, SystemMessage\n",
    "\n",
    "mensagens = [\n",
    "    SystemMessage(content='Você é um assistente que conta piadas.'),\n",
    "    HumanMessage(content='Quanto é 1 + 1?')\n",
    "]\n",
    "for trecho in chat.stream(mensagens):\n",
    "    print(trecho.content, end='')"
   ]
  },
  {
   "attachments": {},
   "cell_type": "markdown",
   "id": "efae899e",
   "metadata": {},
   "source": [
    "Existem 5 tipos diferentes de mensagens:\n",
    "\n",
    "- `HumanMessage`: Isso representa uma mensagem do usuário. Geralmente consiste apenas de conteúdo.\n",
    "\n",
    "- `AIMessage`: Isso representa uma mensagem do modelo. Pode ter additional_kwargs incluídos - por exemplo, tool_calls se estiver usando chamadas de ferramentas da OpenAI.\n",
    "\n",
    "- `SystemMessage`: Isso representa uma mensagem do sistema, que indica ao modelo como se comportar. Geralmente consiste apenas de conteúdo. Nem todo modelo suporta isso.\n",
    "\n",
    "- `FunctionMessage`: Isso representa o resultado de uma chamada de função. Além do papel e conteúdo, esta mensagem tem um parâmetro de nome que transmite o nome da função que foi chamada para produzir este resultado.\n",
    "\n",
    "- `ToolMessage`: Isso representa o resultado de uma chamada de ferramenta. Isso é distinto de uma Mensagem de Função a fim de corresponder aos tipos de mensagens de função e ferramenta da OpenAI. Além do papel e conteúdo, esta mensagem tem um parâmetro tool_call_id que transmite o id da chamada à ferramenta que foi feita para produzir este resultado."
   ]
  },
  {
   "cell_type": "code",
   "execution_count": null,
   "id": "f2efaf41",
   "metadata": {},
   "outputs": [],
   "source": []
  }
 ],
 "metadata": {
  "kernelspec": {
   "display_name": "Python 3 (ipykernel)",
   "language": "python",
   "name": "python3"
  },
  "language_info": {
   "codemirror_mode": {
    "name": "ipython",
    "version": 3
   },
   "file_extension": ".py",
   "mimetype": "text/x-python",
   "name": "python",
   "nbconvert_exporter": "python",
   "pygments_lexer": "ipython3",
   "version": "3.12.3"
  }
 },
 "nbformat": 4,
 "nbformat_minor": 5
}
