{
 "cells": [
  {
   "cell_type": "code",
   "execution_count": 1,
   "id": "0b0a7bea",
   "metadata": {},
   "outputs": [],
   "source": [
    "import openai\n",
    "from dotenv import load_dotenv, find_dotenv\n",
    "\n",
    "_ = load_dotenv(find_dotenv())\n",
    "\n",
    "client = openai.Client()"
   ]
  },
  {
   "attachments": {},
   "cell_type": "markdown",
   "id": "d748127d",
   "metadata": {},
   "source": [
    "## Cria o assistant"
   ]
  },
  {
   "cell_type": "code",
   "execution_count": 2,
   "id": "b8385a71",
   "metadata": {},
   "outputs": [],
   "source": [
    "assitant = client.beta.assistants.create(\n",
    "    name=\"Tutor de Matemática da Asimov\",\n",
    "    instructions='Você é um tutor pessoal de matemática da empresa Asimov. \\\n",
    "        Escreva e execute códigos para responder as perguntas de matemática que lhe forem passadas.',\n",
    "    tools=[{'type': 'code_interpreter'}],\n",
    "    model='gpt-3.5-turbo-0125'\n",
    ")"
   ]
  },
  {
   "attachments": {},
   "cell_type": "markdown",
   "id": "ef03a019",
   "metadata": {},
   "source": [
    "## Cria uma thread"
   ]
  },
  {
   "cell_type": "code",
   "execution_count": 3,
   "id": "6e564600",
   "metadata": {},
   "outputs": [],
   "source": [
    "thread = client.beta.threads.create()"
   ]
  },
  {
   "attachments": {},
   "cell_type": "markdown",
   "id": "2dd2acc5",
   "metadata": {},
   "source": [
    "## Adiciona mensagem a thread criada"
   ]
  },
  {
   "cell_type": "code",
   "execution_count": 4,
   "id": "4ba988f8",
   "metadata": {},
   "outputs": [],
   "source": [
    "message = client.beta.threads.messages.create(\n",
    "    thread_id=thread.id,\n",
    "    role='user',\n",
    "    content='Se eu jogar um dado honesto 1000 vezes, qual é a probabilidade de eu obter exatamente 150 vezes o número 6? Resolva com um código'\n",
    ")"
   ]
  },
  {
   "attachments": {},
   "cell_type": "markdown",
   "id": "db10a63b",
   "metadata": {},
   "source": [
    "## Roda a thread no assistant"
   ]
  },
  {
   "cell_type": "code",
   "execution_count": 5,
   "id": "ab3e750e",
   "metadata": {},
   "outputs": [],
   "source": [
    "run = client.beta.threads.runs.create(\n",
    "    thread_id=thread.id,\n",
    "    assistant_id=assitant.id,\n",
    "    instructions='O nome do usuário é Adriano Soares e ele é um usuário Premium.'\n",
    ")"
   ]
  },
  {
   "attachments": {},
   "cell_type": "markdown",
   "id": "7b71e5ba",
   "metadata": {},
   "source": [
    "## Aguarda a thread rodar"
   ]
  },
  {
   "cell_type": "code",
   "execution_count": 6,
   "id": "cc04b39a",
   "metadata": {},
   "outputs": [],
   "source": [
    "import time\n",
    "\n",
    "while run.status in ['queued', 'in_progress', 'cancelling']:\n",
    "    time.sleep(1)\n",
    "    run = client.beta.threads.runs.retrieve(\n",
    "        thread_id=thread.id,\n",
    "        run_id=run.id\n",
    "    )\n"
   ]
  },
  {
   "cell_type": "code",
   "execution_count": 7,
   "id": "e9d22a02",
   "metadata": {},
   "outputs": [
    {
     "data": {
      "text/plain": [
       "'completed'"
      ]
     },
     "execution_count": 7,
     "metadata": {},
     "output_type": "execute_result"
    }
   ],
   "source": [
    "run.status"
   ]
  },
  {
   "attachments": {},
   "cell_type": "markdown",
   "id": "f2b0bf80",
   "metadata": {},
   "source": [
    "## Verifica a resposta"
   ]
  },
  {
   "cell_type": "code",
   "execution_count": 8,
   "id": "6fa5456c",
   "metadata": {},
   "outputs": [
    {
     "name": "stdout",
     "output_type": "stream",
     "text": [
      "SyncCursorPage[Message](data=[Message(id='msg_3zA3jX7N37rcvDIE6eX5OHu6', assistant_id='asst_A6ClXkb9yX7r28SSJcGwhSXp', attachments=[], completed_at=None, content=[TextContentBlock(text=Text(annotations=[], value='A probabilidade de obter exatamente 150 vezes o número 6 ao jogar um dado honesto 1000 vezes é de aproximadamente 0.0126, ou seja, cerca de 1.26%.'), type='text')], created_at=1731980425, incomplete_at=None, incomplete_details=None, metadata={}, object='thread.message', role='assistant', run_id='run_HGnI6Pbz1ZLErgjHqAejU12Y', status=None, thread_id='thread_Nj1qqq1GVK5Na3OOAuAQKK3w'), Message(id='msg_KxkuC0OQEJCfMsVDWgBwZr98', assistant_id='asst_A6ClXkb9yX7r28SSJcGwhSXp', attachments=[], completed_at=None, content=[TextContentBlock(text=Text(annotations=[], value='Para calcular a probabilidade de obter exatamente 150 vezes o número 6 ao jogar um dado honesto 1000 vezes, podemos usar a distribuição binomial. A fórmula da distribuição binomial é dada por:\\n\\n\\\\[ P(X=k) = \\\\binom{n}{k} \\\\times p^k \\\\times (1-p)^{n-k} \\\\]\\n\\nonde:\\n- \\\\( P(X=k) \\\\) é a probabilidade de obter k sucessos\\n- \\\\( n \\\\) é o número total de tentativas\\n- \\\\( p \\\\) é a probabilidade de sucesso em uma única tentativa\\n- \\\\( k \\\\) é o número de sucessos que estamos interessados em calcular\\n- \\\\( \\\\binom{n}{k} \\\\) é o coeficiente binomial, que pode ser calculado como \\\\( \\\\frac{n!}{k!(n-k)!} \\\\)\\n\\nNeste caso, para obter exatamente 150 vezes o número 6 ao jogar o dado 1000 vezes, temos:\\n- \\\\( n = 1000 \\\\) (número total de tentativas)\\n- \\\\( p = \\\\frac{1}{6} \\\\) (probabilidade de obter o número 6 em uma única rodada)\\n- \\\\( k = 150 \\\\) (número de sucessos desejados)\\n\\nVamos calcular a probabilidade com um código Python:'), type='text')], created_at=1731980420, incomplete_at=None, incomplete_details=None, metadata={}, object='thread.message', role='assistant', run_id='run_HGnI6Pbz1ZLErgjHqAejU12Y', status=None, thread_id='thread_Nj1qqq1GVK5Na3OOAuAQKK3w'), Message(id='msg_Dk0aDSKJQVpLF9AI1ac2XwWK', assistant_id=None, attachments=[], completed_at=None, content=[TextContentBlock(text=Text(annotations=[], value='Se eu jogar um dado honesto 1000 vezes, qual é a probabilidade de eu obter exatamente 150 vezes o número 6? Resolva com um código'), type='text')], created_at=1731980415, incomplete_at=None, incomplete_details=None, metadata={}, object='thread.message', role='user', run_id=None, status=None, thread_id='thread_Nj1qqq1GVK5Na3OOAuAQKK3w')], object='list', first_id='msg_3zA3jX7N37rcvDIE6eX5OHu6', last_id='msg_Dk0aDSKJQVpLF9AI1ac2XwWK', has_more=False)\n"
     ]
    }
   ],
   "source": [
    "if run.status == 'completed':\n",
    "    mensagens = client.beta.threads.messages.list(\n",
    "        thread_id=thread.id\n",
    "    )\n",
    "    print(mensagens)\n",
    "else:\n",
    "    print('Errro', run.status)"
   ]
  },
  {
   "cell_type": "code",
   "execution_count": 9,
   "id": "3f9d818b",
   "metadata": {},
   "outputs": [
    {
     "name": "stdout",
     "output_type": "stream",
     "text": [
      "A probabilidade de obter exatamente 150 vezes o número 6 ao jogar um dado honesto 1000 vezes é de aproximadamente 0.0126, ou seja, cerca de 1.26%.\n"
     ]
    }
   ],
   "source": [
    "print(mensagens.data[0].content[0].text.value)"
   ]
  },
  {
   "attachments": {},
   "cell_type": "markdown",
   "id": "27e24b15",
   "metadata": {},
   "source": [
    "## Analisando os passos do modelo"
   ]
  },
  {
   "cell_type": "code",
   "execution_count": 10,
   "id": "b5596864",
   "metadata": {},
   "outputs": [],
   "source": [
    "run_steps = client.beta.threads.runs.steps.list(\n",
    "  thread_id=thread.id,\n",
    "  run_id=run.id\n",
    ")"
   ]
  },
  {
   "cell_type": "code",
   "execution_count": 11,
   "id": "f14a93b1",
   "metadata": {},
   "outputs": [
    {
     "name": "stdout",
     "output_type": "stream",
     "text": [
      "=== Step: message_creation\n",
      "=== Step: tool_calls\n",
      "-----\n",
      "import math\n",
      "\n",
      "# Definindo os parâmetros\n",
      "n = 1000\n",
      "p = 1/6\n",
      "k = 150\n",
      "\n",
      "# Calculando a probabilidade usando a fórmula da distribuição binomial\n",
      "probabilidade = (math.factorial(n) / (math.factorial(k) * math.factorial(n - k))) * (p**k) * ((1-p)**(n-k))\n",
      "probabilidade\n",
      "-----\n",
      "Result\n"
     ]
    },
    {
     "ename": "IndexError",
     "evalue": "list index out of range",
     "output_type": "error",
     "traceback": [
      "\u001b[1;31m---------------------------------------------------------------------------\u001b[0m",
      "\u001b[1;31mIndexError\u001b[0m                                Traceback (most recent call last)",
      "Cell \u001b[1;32mIn[11], line 9\u001b[0m\n\u001b[0;32m      7\u001b[0m \u001b[38;5;28mprint\u001b[39m(\u001b[38;5;124m'\u001b[39m\u001b[38;5;124m-----\u001b[39m\u001b[38;5;124m'\u001b[39m)\n\u001b[0;32m      8\u001b[0m \u001b[38;5;28mprint\u001b[39m(\u001b[38;5;124m'\u001b[39m\u001b[38;5;124mResult\u001b[39m\u001b[38;5;124m'\u001b[39m)\n\u001b[1;32m----> 9\u001b[0m \u001b[38;5;28mprint\u001b[39m(tool_call\u001b[38;5;241m.\u001b[39mcode_interpreter\u001b[38;5;241m.\u001b[39moutputs[\u001b[38;5;241m0\u001b[39m]\u001b[38;5;241m.\u001b[39mlogs)\n",
      "\u001b[1;31mIndexError\u001b[0m: list index out of range"
     ]
    }
   ],
   "source": [
    "for step in run_steps.data:\n",
    "    print('=== Step:', step.step_details.type)\n",
    "    if step.step_details.type == 'tool_calls':\n",
    "        for tool_call in step.step_details.tool_calls:\n",
    "            print('-----')\n",
    "            print(tool_call.code_interpreter.input)\n",
    "            print('-----')\n",
    "            print('Result')\n",
    "            print(tool_call.code_interpreter.outputs[0].logs)\n",
    "    "
   ]
  },
  {
   "cell_type": "code",
   "execution_count": 12,
   "id": "f2c8d5ea",
   "metadata": {},
   "outputs": [
    {
     "name": "stdout",
     "output_type": "stream",
     "text": [
      "\n",
      "=== Step: message_creation\n",
      "Para calcular a probabilidade de obter exatamente 150 vezes o número 6 ao jogar um dado honesto 1000 vezes, podemos usar a distribuição binomial. A fórmula da distribuição binomial é dada por:\n",
      "\n",
      "\\[ P(X=k) = \\binom{n}{k} \\times p^k \\times (1-p)^{n-k} \\]\n",
      "\n",
      "onde:\n",
      "- \\( P(X=k) \\) é a probabilidade de obter k sucessos\n",
      "- \\( n \\) é o número total de tentativas\n",
      "- \\( p \\) é a probabilidade de sucesso em uma única tentativa\n",
      "- \\( k \\) é o número de sucessos que estamos interessados em calcular\n",
      "- \\( \\binom{n}{k} \\) é o coeficiente binomial, que pode ser calculado como \\( \\frac{n!}{k!(n-k)!} \\)\n",
      "\n",
      "Neste caso, para obter exatamente 150 vezes o número 6 ao jogar o dado 1000 vezes, temos:\n",
      "- \\( n = 1000 \\) (número total de tentativas)\n",
      "- \\( p = \\frac{1}{6} \\) (probabilidade de obter o número 6 em uma única rodada)\n",
      "- \\( k = 150 \\) (número de sucessos desejados)\n",
      "\n",
      "Vamos calcular a probabilidade com um código Python:\n",
      "\n",
      "=== Step: tool_calls\n",
      "-----\n",
      "import math\n",
      "\n",
      "# Definindo os parâmetros\n",
      "n = 1000\n",
      "p = 1/6\n",
      "k = 150\n",
      "\n",
      "# Calculando a probabilidade usando a fórmula da distribuição binomial\n",
      "probabilidade = (math.factorial(n) / (math.factorial(k) * math.factorial(n - k))) * (p**k) * ((1-p)**(n-k))\n",
      "probabilidade\n",
      "-----\n",
      "Result\n"
     ]
    },
    {
     "ename": "IndexError",
     "evalue": "list index out of range",
     "output_type": "error",
     "traceback": [
      "\u001b[1;31m---------------------------------------------------------------------------\u001b[0m",
      "\u001b[1;31mIndexError\u001b[0m                                Traceback (most recent call last)",
      "Cell \u001b[1;32mIn[12], line 9\u001b[0m\n\u001b[0;32m      7\u001b[0m         \u001b[38;5;28mprint\u001b[39m(\u001b[38;5;124m'\u001b[39m\u001b[38;5;124m-----\u001b[39m\u001b[38;5;124m'\u001b[39m)\n\u001b[0;32m      8\u001b[0m         \u001b[38;5;28mprint\u001b[39m(\u001b[38;5;124m'\u001b[39m\u001b[38;5;124mResult\u001b[39m\u001b[38;5;124m'\u001b[39m)\n\u001b[1;32m----> 9\u001b[0m         \u001b[38;5;28mprint\u001b[39m(tool_call\u001b[38;5;241m.\u001b[39mcode_interpreter\u001b[38;5;241m.\u001b[39moutputs[\u001b[38;5;241m0\u001b[39m]\u001b[38;5;241m.\u001b[39mlogs)\n\u001b[0;32m     10\u001b[0m \u001b[38;5;28;01mif\u001b[39;00m step\u001b[38;5;241m.\u001b[39mstep_details\u001b[38;5;241m.\u001b[39mtype \u001b[38;5;241m==\u001b[39m \u001b[38;5;124m'\u001b[39m\u001b[38;5;124mmessage_creation\u001b[39m\u001b[38;5;124m'\u001b[39m:\n\u001b[0;32m     11\u001b[0m     message \u001b[38;5;241m=\u001b[39m client\u001b[38;5;241m.\u001b[39mbeta\u001b[38;5;241m.\u001b[39mthreads\u001b[38;5;241m.\u001b[39mmessages\u001b[38;5;241m.\u001b[39mretrieve(\n\u001b[0;32m     12\u001b[0m         thread_id\u001b[38;5;241m=\u001b[39mthread\u001b[38;5;241m.\u001b[39mid,\n\u001b[0;32m     13\u001b[0m         message_id\u001b[38;5;241m=\u001b[39mstep\u001b[38;5;241m.\u001b[39mstep_details\u001b[38;5;241m.\u001b[39mmessage_creation\u001b[38;5;241m.\u001b[39mmessage_id\n\u001b[0;32m     14\u001b[0m     )\n",
      "\u001b[1;31mIndexError\u001b[0m: list index out of range"
     ]
    }
   ],
   "source": [
    "for step in run_steps.data[::-1]:\n",
    "    print('\\n=== Step:', step.step_details.type)\n",
    "    if step.step_details.type == 'tool_calls':\n",
    "        for tool_call in step.step_details.tool_calls:\n",
    "            print('-----')\n",
    "            print(tool_call.code_interpreter.input)\n",
    "            print('-----')\n",
    "            print('Result')\n",
    "            print(tool_call.code_interpreter.outputs[0].logs)\n",
    "    if step.step_details.type == 'message_creation':\n",
    "        message = client.beta.threads.messages.retrieve(\n",
    "            thread_id=thread.id,\n",
    "            message_id=step.step_details.message_creation.message_id\n",
    "        )\n",
    "        print(message.content[0].text.value)\n",
    "    "
   ]
  },
  {
   "cell_type": "code",
   "execution_count": null,
   "id": "7b8a5990",
   "metadata": {},
   "outputs": [],
   "source": []
  }
 ],
 "metadata": {
  "kernelspec": {
   "display_name": "base",
   "language": "python",
   "name": "python3"
  },
  "language_info": {
   "codemirror_mode": {
    "name": "ipython",
    "version": 3
   },
   "file_extension": ".py",
   "mimetype": "text/x-python",
   "name": "python",
   "nbconvert_exporter": "python",
   "pygments_lexer": "ipython3",
   "version": "3.12.4"
  }
 },
 "nbformat": 4,
 "nbformat_minor": 5
}
